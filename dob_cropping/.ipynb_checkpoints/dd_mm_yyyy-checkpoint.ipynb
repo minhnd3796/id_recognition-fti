{
 "cells": [
  {
   "cell_type": "code",
   "execution_count": 1,
   "metadata": {},
   "outputs": [],
   "source": [
    "import cv2\n",
    "import numpy as np\n",
    "from os.path import join\n",
    "from matplotlib import pyplot as plt"
   ]
  },
  {
   "cell_type": "code",
   "execution_count": 236,
   "metadata": {},
   "outputs": [
    {
     "data": {
      "image/png": "[encoded data removed]",
      "text/plain": [
       "<matplotlib.figure.Figure at 0x7fe89a932be0>"
      ]
     },
     "metadata": {},
     "output_type": "display_data"
    },
    {
     "name": "stdout",
     "output_type": "stream",
     "text": [
      "(26, 66)\n"
     ]
    }
   ],
   "source": [
    "plt.rcParams[\"figure.figsize\"] = [6.0, 4.0]\n",
    "img = cv2.imread('yyyy.png', 0)\n",
    "h, w = img.shape\n",
    "plt.imshow(img[:, :], cmap='gray')\n",
    "# plt.imshow(img[:, int(w/2):], cmap='gray')\n",
    "plt.show()\n",
    "print(img.shape)"
   ]
  },
  {
   "cell_type": "code",
   "execution_count": 3,
   "metadata": {},
   "outputs": [
    {
     "data": {
      "image/png": "[encoded data removed]",
      "text/plain": [
       "<matplotlib.figure.Figure at 0x7fe90217b668>"
      ]
     },
     "metadata": {},
     "output_type": "display_data"
    }
   ],
   "source": [
    "_, thresh = cv2.threshold(img, 127, 255, 0)\n",
    "plt.imshow(thresh, cmap='gray')\n",
    "plt.show()"
   ]
  },
  {
   "cell_type": "code",
   "execution_count": 4,
   "metadata": {},
   "outputs": [
    {
     "name": "stdout",
     "output_type": "stream",
     "text": [
      "Number of contours: 4\n"
     ]
    },
    {
     "data": {
      "image/png": "[encoded data removed]",
      "text/plain": [
       "<matplotlib.figure.Figure at 0x7fe98875c080>"
      ]
     },
     "metadata": {},
     "output_type": "display_data"
    }
   ],
   "source": [
    "img2, contours, hierarchy = cv2.findContours(thresh,\n",
    "                                             mode=cv2.RETR_EXTERNAL,\n",
    "                                             method=2)\n",
    "# img2, contours, hierarchy = cv2.findContours(thresh, mode=1, method=2)\n",
    "thresh_coloured = cv2.cvtColor(thresh, cv2.COLOR_GRAY2BGR)\n",
    "\n",
    "num_contours = len(contours)\n",
    "num_contours = len(contours)\n",
    "contour_areas = [0] * num_contours\n",
    "heights = [0] * num_contours\n",
    "\n",
    "print('Number of contours:', num_contours)\n",
    "img_height = thresh_coloured.shape[0]\n",
    "\n",
    "for i in range(0, num_contours):\n",
    "    x,y,w,h = cv2.boundingRect(contours[i])\n",
    "    heights[i] = h / img_height\n",
    "    cv2.rectangle(thresh_coloured, (x, y),(x + w, y + h), (0, 255, 0), 1)\n",
    "    contour_areas[i] = cv2.contourArea(contours[i])\n",
    "plt.imshow(thresh_coloured, cmap = 'gray')\n",
    "plt.show()"
   ]
  },
  {
   "cell_type": "code",
   "execution_count": 5,
   "metadata": {
    "scrolled": false
   },
   "outputs": [
    {
     "name": "stdout",
     "output_type": "stream",
     "text": [
      "3\n",
      "16\n"
     ]
    },
    {
     "data": {
      "text/plain": [
       "<matplotlib.image.AxesImage at 0x7f0d41cf8c88>"
      ]
     },
     "execution_count": 5,
     "metadata": {},
     "output_type": "execute_result"
    },
    {
     "data": {
      "image/png": "[encoded data removed]",
      "text/plain": [
       "<matplotlib.figure.Figure at 0x7f0d41cc55c0>"
      ]
     },
     "metadata": {},
     "output_type": "display_data"
    }
   ],
   "source": [
    "# desc_cnt_idx = np.flipud(np.argsort(np.array(contour_areas)))\n",
    "desc_cnt_idx = np.flipud(np.argsort(np.array(heights)))\n",
    "\n",
    "# print(len(desc_cnt_idx))\n",
    "thresh_coloured = cv2.cvtColor(thresh, cv2.COLOR_GRAY2BGR)\n",
    "\n",
    "# Heuristic\n",
    "num_digits, _ = get_digit_contours(thresh, contours, digit_type)\n",
    "horizontal_top_lefts = [0] * num_digits\n",
    "rects = [None] * num_digits\n",
    "digit_contours = np.array(contours)[desc_cnt_idx[0:num_digits]]\n",
    "# print(digit_contours.shape)\n",
    "# print(rects)\n",
    "\n",
    "for i in range(num_digits):\n",
    "    x,y,w,h = cv2.boundingRect(digit_contours[i])\n",
    "    rects[i] = (x, y, w, h)\n",
    "    print(rects[i][0])\n",
    "    horizontal_top_lefts[i] = x\n",
    "    cv2.rectangle(thresh_coloured, (x, y),(x + w, y + h), (0, 255, 0), 1)\n",
    "plt.imshow(thresh_coloured, cmap = 'gray')"
   ]
  },
  {
   "cell_type": "code",
   "execution_count": 79,
   "metadata": {},
   "outputs": [],
   "source": [
    "from math import floor\n",
    "def square_padding(ori_img):\n",
    "    squared_img = ori_img\n",
    "    height, width = ori_img.shape\n",
    "    if (width != height):\n",
    "        BLACK = [0, 0, 0]\n",
    "        if (width > height):\n",
    "            diff = width - height\n",
    "            if (diff % 2 == 0):\n",
    "                padding = int(diff / 2)\n",
    "                squared_img = cv2.copyMakeBorder(ori_img, padding, padding, 0, 0, cv2.BORDER_CONSTANT,value=BLACK)\n",
    "            else:\n",
    "                padding = floor(diff / 2)\n",
    "                squared_img = cv2.copyMakeBorder(ori_img, padding+1, padding, 0,0, cv2.BORDER_CONSTANT,value=BLACK)\n",
    "        else:\n",
    "            diff = height - width\n",
    "            if (diff % 2 == 0):\n",
    "                padding = int(diff / 2)\n",
    "                squared_img = cv2.copyMakeBorder(ori_img, 0, 0, padding, padding, cv2.BORDER_CONSTANT,value=BLACK)\n",
    "            else:\n",
    "                padding = floor(diff / 2)\n",
    "                squared_img = cv2.copyMakeBorder(ori_img, 0,0, padding+1, padding, cv2.BORDER_CONSTANT,value=BLACK)\n",
    "    return squared_img\n",
    "\n",
    "import caffe\n",
    "caffe.set_device(0)\n",
    "caffe.set_mode_gpu()\n",
    "# caffe.set_mode_cpu()\n",
    "_net = caffe.Net('../lenet_deploy.prototxt', '../mixed_lenet_8817_id_digit.caffemodel', caffe.TEST)\n",
    "\n",
    "def numberSeq2Str(digit_img_arr, net):\n",
    "    id_str = ''\n",
    "    \n",
    "    for digit in digit_img_arr:\n",
    "        digit = cv2.resize(digit, (28, 28))\n",
    "#         print(digit.shape)\n",
    "#         digit = digit.astype(np.dtype(np.float64)) * (1.0 / 255.0)\n",
    "        digit = digit.astype(np.float64) * (1.0 / 255.0)\n",
    "        net.blobs['data'].data[...] = digit[np.newaxis, np.newaxis, :, :]\n",
    "        out = _net.forward()\n",
    "        id_str += str(out['prob'].argmax())\n",
    "    return id_str"
   ]
  },
  {
   "cell_type": "code",
   "execution_count": 237,
   "metadata": {},
   "outputs": [
    {
     "data": {
      "text/plain": [
       "'1977'"
      ]
     },
     "execution_count": 237,
     "metadata": {},
     "output_type": "execute_result"
    }
   ],
   "source": [
    "import numpy as np\n",
    "img_type = 'yyyy'\n",
    "\n",
    "_, w = img.shape\n",
    "if img_type == 'dd_mm':\n",
    "    num_digits = 2\n",
    "elif img_type == 'yyyy':\n",
    "    num_digits = 4\n",
    "\n",
    "# img = dob_full_img[:, 148-64:]\n",
    "digit_img = [None] * num_digits\n",
    "chunk_w = int(w / num_digits)\n",
    "for i in range(num_digits):\n",
    "    start_pixel = i * chunk_w\n",
    "    digit_img[i] = img[:, start_pixel:start_pixel + chunk_w]\n",
    "#     digit_img[1] = img[:, int(w/2):]\n",
    "\n",
    "for i in range(len(digit_img)):\n",
    "    # img_area = digit_img.shape[0] * digit_img.shape[1]\n",
    "    _, thresh = cv2.threshold(digit_img[i], 127, 255, 0)\n",
    "    _, contours, _ = cv2.findContours(thresh, mode=cv2.RETR_EXTERNAL, method=2)\n",
    "    \n",
    "    num_contours = len(contours)\n",
    "    rect = [None] * num_contours\n",
    "    contour_areas = [0.] * num_contours\n",
    "    \n",
    "    for j in range(num_contours):\n",
    "        x, y, w, h = cv2.boundingRect(contours[j])\n",
    "        rect[j] = (x, y, w, h)\n",
    "        contour_areas[j] = w * h\n",
    "    \n",
    "    desc_cnt_idx = np.flipud(np.argsort(np.array(contour_areas)))\n",
    "    (x, y, w, h) = rect[desc_cnt_idx[0]]\n",
    "    digit_img[i] = square_padding(digit_img[i][y:y + h, x:x + w])\n",
    "    cv2.imwrite(str(i)+'.png', digit_img[i])\n",
    "(numberSeq2Str(digit_img, _net))"
   ]
  },
  {
   "cell_type": "code",
   "execution_count": 242,
   "metadata": {},
   "outputs": [
    {
     "name": "stdout",
     "output_type": "stream",
     "text": [
      "3\n"
     ]
    },
    {
     "data": {
      "text/plain": [
       "<matplotlib.image.AxesImage at 0x7fe89a2f12b0>"
      ]
     },
     "execution_count": 242,
     "metadata": {},
     "output_type": "execute_result"
    },
    {
     "data": {
      "image/png": "[encoded data removed]",
      "text/plain": [
       "<matplotlib.figure.Figure at 0x7fe89a7ae908>"
      ]
     },
     "metadata": {},
     "output_type": "display_data"
    }
   ],
   "source": [
    "plt.rcParams[\"figure.figsize\"] = [12, 8]\n",
    "dob_full_img = cv2.imread('date_of_birth_valid/841289701567_0902406970_184080210_1_2016032620240453_0.png', 0)\n",
    "_, contours, _ = cv2.findContours(thresh, mode=cv2.RETR_EXTERNAL, method=2)\n",
    "# img2, contours, hierarchy = cv2.findContours(thresh, mode=1, method=2)\n",
    "thresh_coloured = cv2.cvtColor(thresh, cv2.COLOR_GRAY2BGR)\n",
    "\n",
    "num_contours = len(contours)\n",
    "contour_areas = [0] * num_contours\n",
    "heights = [0] * num_contours\n",
    "\n",
    "print(num_contours)\n",
    "img_height = thresh_coloured.shape[0]\n",
    "\n",
    "for i in range(0, num_contours):\n",
    "    x,y,w,h = cv2.boundingRect(contours[i])\n",
    "    heights[i] = h / img_height\n",
    "    cv2.rectangle(thresh_coloured, (x, y),(x + w, y + h), (0, 255, 0), 1)\n",
    "    contour_areas[i] = cv2.contourArea(contours[i])\n",
    "plt.imshow(thresh_coloured, cmap = 'gray')\n",
    "# plt.imshow(dob_full_img, cmap='gray')"
   ]
  }
 ],
 "metadata": {
  "kernelspec": {
   "display_name": "Python 3",
   "language": "python",
   "name": "python3"
  },
  "language_info": {
   "codemirror_mode": {
    "name": "ipython",
    "version": 3
   },
   "file_extension": ".py",
   "mimetype": "text/x-python",
   "name": "python",
   "nbconvert_exporter": "python",
   "pygments_lexer": "ipython3",
   "version": "3.5.2"
  }
 },
 "nbformat": 4,
 "nbformat_minor": 2
}
