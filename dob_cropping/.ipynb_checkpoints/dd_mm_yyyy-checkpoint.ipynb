{
 "cells": [
  {
   "cell_type": "code",
   "execution_count": 1,
   "metadata": {},
   "outputs": [],
   "source": [
    "import cv2\n",
    "import numpy as np\n",
    "from os.path import join\n",
    "from matplotlib import pyplot as plt\n",
    "plt.rcParams[\"figure.figsize\"] = [6.0, 4.0]"
   ]
  },
  {
   "cell_type": "code",
   "execution_count": 2,
   "metadata": {},
   "outputs": [
    {
     "data": {
      "image/png": "[encoded data removed]",
      "text/plain": [
       "<matplotlib.figure.Figure at 0x7f0d43e34198>"
      ]
     },
     "metadata": {},
     "output_type": "display_data"
    }
   ],
   "source": [
    "img = cv2.imread('dd.png', 0)\n",
    "plt.imshow(img, cmap='gray')\n",
    "plt.show()"
   ]
  },
  {
   "cell_type": "code",
   "execution_count": 3,
   "metadata": {},
   "outputs": [
    {
     "data": {
      "image/png": "[encoded data removed]",
      "text/plain": [
       "<matplotlib.figure.Figure at 0x7f0d41d9d6a0>"
      ]
     },
     "metadata": {},
     "output_type": "display_data"
    }
   ],
   "source": [
    "_, thresh = cv2.threshold(img, 127, 255, 0)\n",
    "plt.imshow(thresh, cmap='gray')\n",
    "plt.show()"
   ]
  },
  {
   "cell_type": "code",
   "execution_count": 4,
   "metadata": {},
   "outputs": [
    {
     "name": "stdout",
     "output_type": "stream",
     "text": [
      "Number of contours: 4\n"
     ]
    },
    {
     "data": {
      "image/png": "[encoded data removed]",
      "text/plain": [
       "<matplotlib.figure.Figure at 0x7f0d41d78b38>"
      ]
     },
     "metadata": {},
     "output_type": "display_data"
    }
   ],
   "source": [
    "img2, contours, hierarchy = cv2.findContours(thresh,\n",
    "                                             mode=cv2.RETR_EXTERNAL,\n",
    "                                             method=2)\n",
    "# img2, contours, hierarchy = cv2.findContours(thresh, mode=1, method=2)\n",
    "thresh_coloured = cv2.cvtColor(thresh, cv2.COLOR_GRAY2BGR)\n",
    "\n",
    "num_contours = len(contours)\n",
    "num_contours = len(contours)\n",
    "contour_areas = [0] * num_contours\n",
    "heights = [0] * num_contours\n",
    "\n",
    "print('Number of contours:', num_contours)\n",
    "img_height = thresh_coloured.shape[0]\n",
    "\n",
    "for i in range(0, num_contours):\n",
    "    x,y,w,h = cv2.boundingRect(contours[i])\n",
    "    heights[i] = h / img_height\n",
    "    cv2.rectangle(thresh_coloured, (x, y),(x + w, y + h), (0, 255, 0), 1)\n",
    "    contour_areas[i] = cv2.contourArea(contours[i])\n",
    "plt.imshow(thresh_coloured, cmap = 'gray')\n",
    "plt.show()"
   ]
  },
  {
   "cell_type": "code",
   "execution_count": 5,
   "metadata": {
    "scrolled": true
   },
   "outputs": [
    {
     "name": "stdout",
     "output_type": "stream",
     "text": [
      "3\n",
      "16\n"
     ]
    },
    {
     "data": {
      "text/plain": [
       "<matplotlib.image.AxesImage at 0x7f0d41cf8c88>"
      ]
     },
     "execution_count": 5,
     "metadata": {},
     "output_type": "execute_result"
    },
    {
     "data": {
      "image/png": "[encoded data removed]",
      "text/plain": [
       "<matplotlib.figure.Figure at 0x7f0d41cc55c0>"
      ]
     },
     "metadata": {},
     "output_type": "display_data"
    }
   ],
   "source": [
    "# desc_cnt_idx = np.flipud(np.argsort(np.array(contour_areas)))\n",
    "desc_cnt_idx = np.flipud(np.argsort(np.array(heights)))\n",
    "\n",
    "# print(len(desc_cnt_idx))\n",
    "thresh_coloured = cv2.cvtColor(thresh, cv2.COLOR_GRAY2BGR)\n",
    "\n",
    "# Heuristic\n",
    "num_digits, _ = get_digit_contours(thresh, contours, digit_type)\n",
    "horizontal_top_lefts = [0] * num_digits\n",
    "rects = [None] * num_digits\n",
    "digit_contours = np.array(contours)[desc_cnt_idx[0:num_digits]]\n",
    "# print(digit_contours.shape)\n",
    "# print(rects)\n",
    "\n",
    "for i in range(num_digits):\n",
    "    x,y,w,h = cv2.boundingRect(digit_contours[i])\n",
    "    rects[i] = (x, y, w, h)\n",
    "    print(rects[i][0])\n",
    "    horizontal_top_lefts[i] = x\n",
    "    cv2.rectangle(thresh_coloured, (x, y),(x + w, y + h), (0, 255, 0), 1)\n",
    "plt.imshow(thresh_coloured, cmap = 'gray')"
   ]
  },
  {
   "cell_type": "code",
   "execution_count": 6,
   "metadata": {},
   "outputs": [],
   "source": [
    "from recognise_id_number import idToStr\n",
    "idToStr(img, '../lenet_deploy.prototxt', '../lenet_iter_100000.caffemodel', 'DD.MM')"
   ]
  }
 ],
 "metadata": {
  "kernelspec": {
   "display_name": "Python 3",
   "language": "python",
   "name": "python3"
  },
  "language_info": {
   "codemirror_mode": {
    "name": "ipython",
    "version": 3
   },
   "file_extension": ".py",
   "mimetype": "text/x-python",
   "name": "python",
   "nbconvert_exporter": "python",
   "pygments_lexer": "ipython3",
   "version": "3.5.2"
  }
 },
 "nbformat": 4,
 "nbformat_minor": 2
}
