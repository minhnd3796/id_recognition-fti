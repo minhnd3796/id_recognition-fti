{
 "cells": [
  {
   "cell_type": "code",
   "execution_count": 6,
   "metadata": {},
   "outputs": [],
   "source": [
    "import cv2\n",
    "from math import floor\n",
    "from os import listdir, makedirs\n",
    "from os.path import join, exists"
   ]
  },
  {
   "cell_type": "code",
   "execution_count": 7,
   "metadata": {},
   "outputs": [],
   "source": [
    "def square_padding(dir_name, filename):\n",
    "    ori_img = cv2.imread(join(dir_name, filename), 0)\n",
    "    squared_img = ori_img\n",
    "    height, width = ori_img.shape\n",
    "    if (width != height):\n",
    "        BLACK = [0, 0, 0]\n",
    "        if (width > height):\n",
    "            diff = width - height\n",
    "            if (diff % 2 == 0):\n",
    "                padding = int(diff / 2)\n",
    "                squared_img = cv2.copyMakeBorder(ori_img, padding, padding, 0, 0, cv2.BORDER_CONSTANT,value=BLACK)\n",
    "            else:\n",
    "                padding = floor(diff / 2)\n",
    "                squared_img = cv2.copyMakeBorder(ori_img, padding+1, padding, 0,0, cv2.BORDER_CONSTANT,value=BLACK)\n",
    "        else:\n",
    "            diff = height - width\n",
    "            if (diff % 2 == 0):\n",
    "                padding = int(diff / 2)\n",
    "                squared_img = cv2.copyMakeBorder(ori_img, 0, 0, padding, padding, cv2.BORDER_CONSTANT,value=BLACK)\n",
    "            else:\n",
    "                padding = floor(diff / 2)\n",
    "                squared_img = cv2.copyMakeBorder(ori_img, 0,0, padding+1, padding, cv2.BORDER_CONSTANT,value=BLACK)\n",
    "    return squared_img"
   ]
  },
  {
   "cell_type": "code",
   "execution_count": 9,
   "metadata": {},
   "outputs": [],
   "source": [
    "dir_name = '002'\n",
    "files = listdir(dir_name)\n",
    "if not exists(dir_name + '_padded'):\n",
    "    makedirs(dir_name + '_padded')\n",
    "for file in files:\n",
    "    cv2.imwrite(dir_name + '_padded/' + file, square_padding(dir_name, file))"
   ]
  }
 ],
 "metadata": {
  "kernelspec": {
   "display_name": "Python 3",
   "language": "python",
   "name": "python3"
  },
  "language_info": {
   "codemirror_mode": {
    "name": "ipython",
    "version": 3
   },
   "file_extension": ".py",
   "mimetype": "text/x-python",
   "name": "python",
   "nbconvert_exporter": "python",
   "pygments_lexer": "ipython3",
   "version": "3.5.2"
  }
 },
 "nbformat": 4,
 "nbformat_minor": 2
}
