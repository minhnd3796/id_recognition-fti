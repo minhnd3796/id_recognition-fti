{
 "cells": [
  {
   "cell_type": "code",
   "execution_count": 1,
   "metadata": {},
   "outputs": [],
   "source": [
    "import caffe\n",
    "import numpy as np\n",
    "from skimage import color\n",
    "import skimage\n",
    "import imageio\n",
    "import matplotlib.pyplot as plt\n",
    "\n",
    "# caffe.set_mode_cpu()\n",
    "caffe.set_device(0)\n",
    "caffe.set_mode_gpu()\n",
    "net = caffe.Net('lenet_deploy.prototxt', 'mixed_lenet_8817_id_digit.caffemodel', caffe.TEST)"
   ]
  },
  {
   "cell_type": "code",
   "execution_count": 7,
   "metadata": {
    "scrolled": false
   },
   "outputs": [
    {
     "name": "stdout",
     "output_type": "stream",
     "text": [
      "(35, 35)\n"
     ]
    },
    {
     "data": {
      "image/png": "[encoded data removed]",
      "text/plain": [
       "<matplotlib.figure.Figure at 0x7f3b68988438>"
      ]
     },
     "metadata": {},
     "output_type": "display_data"
    },
    {
     "name": "stdout",
     "output_type": "stream",
     "text": [
      "Number: 0\n",
      "[[9.9952126e-01 2.3936673e-07 1.0970878e-05 1.2655147e-06 3.1811157e-06\n",
      "  1.3708400e-06 3.8759041e-04 3.2701539e-06 2.8520149e-06 6.7938956e-05]]\n",
      "0.99952126\n"
     ]
    }
   ],
   "source": [
    "img = caffe.io.load_image('1.png')\n",
    "\n",
    "# plt.imshow(im)\n",
    "# plt.show()\n",
    "\n",
    "# print(img)\n",
    "img_gray = color.rgb2gray(img)\n",
    "print(img_gray.shape)\n",
    "# img_gray = 1 - img_gray # invert the white background image\n",
    "\n",
    "# plt.imshow(img_gray)\n",
    "plt.show()\n",
    "\n",
    "img_gray_resized = skimage.transform.resize(img_gray, (28, 28), mode='constant')\n",
    "plt.imshow(img_gray_resized)\n",
    "plt.show()\n",
    "# print(img_gray_resized.shape)\n",
    "\n",
    "# print(\"Sum = \", np.sum(img_gray_resized))\n",
    "net.blobs['data'].data[...] = img_gray_resized[np.newaxis, np.newaxis, :, :]\n",
    "\n",
    "out = net.forward()\n",
    "# print(np.sum(out['prob']))\n",
    "# print(out['prob'].shape)\n",
    "print(\"Number:\", out['prob'].argmax())\n",
    "print(out['prob'])\n",
    "print(out['prob'].max())\n",
    "# print(out['argmax'])"
   ]
  },
  {
   "cell_type": "code",
   "execution_count": null,
   "metadata": {},
   "outputs": [],
   "source": []
  }
 ],
 "metadata": {
  "kernelspec": {
   "display_name": "Python 3",
   "language": "python",
   "name": "python3"
  },
  "language_info": {
   "codemirror_mode": {
    "name": "ipython",
    "version": 3
   },
   "file_extension": ".py",
   "mimetype": "text/x-python",
   "name": "python",
   "nbconvert_exporter": "python",
   "pygments_lexer": "ipython3",
   "version": "3.5.2"
  }
 },
 "nbformat": 4,
 "nbformat_minor": 2
}
