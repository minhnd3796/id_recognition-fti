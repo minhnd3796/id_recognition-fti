{
 "cells": [
  {
   "cell_type": "code",
   "execution_count": 1,
   "metadata": {},
   "outputs": [],
   "source": [
    "import cv2\n",
    "import numpy as np\n",
    "from math import floor\n",
    "from matplotlib import pyplot as plt\n",
    "from os.path import join"
   ]
  },
  {
   "cell_type": "code",
   "execution_count": 11,
   "metadata": {},
   "outputs": [
    {
     "data": {
      "image/png": "[encoded data removed]",
      "text/plain": [
       "<matplotlib.figure.Figure at 0x7f56d6500d68>"
      ]
     },
     "metadata": {},
     "output_type": "display_data"
    }
   ],
   "source": [
    "plt.rcParams[\"figure.figsize\"] = [12.0, 8.0]\n",
    "digit_type_dir = \"many_digit_groups\"\n",
    "image_name = \"841289701567_0902402840_225221406_1_2015091011245935.jpgcardnumber.png\"\n",
    "image_path = join('only_number_id_test', digit_type_dir, image_name)\n",
    "in_img = cv2.imread(image_path, 0)\n",
    "# kernel_size = 2\n",
    "# kernel = np.ones((kernel_size, kernel_size),np.uint8)\n",
    "# in_img = cv2.morphologyEx(in_img, cv2.MORPH_OPEN, kernel)\n",
    "# in_img = cv2.morphologyEx(in_img, cv2.MORPH_CLOSE, kernel)\n",
    "\n",
    "plt.imshow(in_img, cmap='gray')\n",
    "plt.show()"
   ]
  },
  {
   "cell_type": "code",
   "execution_count": 7,
   "metadata": {
    "scrolled": true
   },
   "outputs": [
    {
     "data": {
      "image/png": "[encoded data removed]",
      "text/plain": [
       "<matplotlib.figure.Figure at 0x7f56d6470278>"
      ]
     },
     "metadata": {},
     "output_type": "display_data"
    }
   ],
   "source": [
    "# in_img = opening\n",
    "_, thresh = cv2.threshold(in_img, 127, 255, 0)\n",
    "plt.imshow(thresh, cmap='gray')\n",
    "plt.show()"
   ]
  },
  {
   "cell_type": "code",
   "execution_count": 8,
   "metadata": {},
   "outputs": [
    {
     "name": "stdout",
     "output_type": "stream",
     "text": [
      "15\n"
     ]
    },
    {
     "data": {
      "text/plain": [
       "<matplotlib.image.AxesImage at 0x7f56d6546898>"
      ]
     },
     "execution_count": 8,
     "metadata": {},
     "output_type": "execute_result"
    },
    {
     "data": {
      "image/png": "[encoded data removed]",
      "text/plain": [
       "<matplotlib.figure.Figure at 0x7f56d657d4e0>"
      ]
     },
     "metadata": {},
     "output_type": "display_data"
    }
   ],
   "source": [
    "# thresh = opening\n",
    "img2, contours, hierarchy = cv2.findContours(thresh, mode=cv2.RETR_EXTERNAL, method=2)\n",
    "# img2, contours, hierarchy = cv2.findContours(thresh, mode=1, method=2)\n",
    "thresh_coloured = cv2.cvtColor(thresh, cv2.COLOR_GRAY2BGR)\n",
    "\n",
    "num_contours = len(contours)\n",
    "contour_areas = [0] * num_contours\n",
    "heights = [0] * num_contours\n",
    "\n",
    "print(num_contours)\n",
    "img_height = thresh_coloured.shape[0]\n",
    "\n",
    "for i in range(0, num_contours):\n",
    "    x,y,w,h = cv2.boundingRect(contours[i])\n",
    "    heights[i] = h / img_height\n",
    "    cv2.rectangle(thresh_coloured, (x, y),(x + w, y + h), (0, 255, 0), 1)\n",
    "    contour_areas[i] = cv2.contourArea(contours[i])\n",
    "plt.imshow(thresh_coloured, cmap = 'gray')"
   ]
  },
  {
   "cell_type": "code",
   "execution_count": 9,
   "metadata": {},
   "outputs": [
    {
     "name": "stdout",
     "output_type": "stream",
     "text": [
      "94.0\n"
     ]
    },
    {
     "data": {
      "text/plain": [
       "<matplotlib.image.AxesImage at 0x7f56d6500438>"
      ]
     },
     "execution_count": 9,
     "metadata": {},
     "output_type": "execute_result"
    },
    {
     "data": {
      "image/png": "[encoded data removed]",
      "text/plain": [
       "<matplotlib.figure.Figure at 0x7f56d6572518>"
      ]
     },
     "metadata": {},
     "output_type": "display_data"
    }
   ],
   "source": [
    "contour_index = 2\n",
    "print(contour_areas[contour_index])\n",
    "\n",
    "thresh_coloured = cv2.cvtColor(thresh, cv2.COLOR_GRAY2BGR)\n",
    "x,y,w,h = cv2.boundingRect(contours[contour_index])\n",
    "cv2.rectangle(thresh_coloured, (x, y),(x + w, y + h), (0, 255, 0), 1)\n",
    "\n",
    "plt.imshow(thresh_coloured, cmap = 'gray')"
   ]
  },
  {
   "cell_type": "code",
   "execution_count": 10,
   "metadata": {},
   "outputs": [
    {
     "data": {
      "text/plain": [
       "<matplotlib.image.AxesImage at 0x7f56d64c1048>"
      ]
     },
     "execution_count": 10,
     "metadata": {},
     "output_type": "execute_result"
    },
    {
     "data": {
      "image/png": "[encoded data removed]",
      "text/plain": [
       "<matplotlib.figure.Figure at 0x7f56d6588e10>"
      ]
     },
     "metadata": {},
     "output_type": "display_data"
    }
   ],
   "source": [
    "# desc_cnt_idx = np.flipud(np.argsort(np.array(contour_areas)))\n",
    "desc_cnt_idx = np.flipud(np.argsort(np.array(heights)))\n",
    "\n",
    "# print(len(desc_cnt_idx))\n",
    "thresh_coloured = cv2.cvtColor(thresh, cv2.COLOR_GRAY2BGR)\n",
    "\n",
    "num_digits = 9\n",
    "horizontal_top_lefts = [0] * num_digits\n",
    "rects = [None] * num_digits\n",
    "digit_contours = np.array(contours)[desc_cnt_idx[0:num_digits]]\n",
    "# print(digit_contours.shape)\n",
    "# print(rects)\n",
    "\n",
    "for i in range(num_digits):\n",
    "    x,y,w,h = cv2.boundingRect(digit_contours[i])\n",
    "    rects[i] = (x, y, w, h)\n",
    "#     print(rects[i][0])\n",
    "    horizontal_top_lefts[i] = x\n",
    "    cv2.rectangle(thresh_coloured, (x, y),(x + w, y + h), (0, 255, 0), 1)\n",
    "plt.imshow(thresh_coloured, cmap = 'gray')"
   ]
  },
  {
   "cell_type": "code",
   "execution_count": 141,
   "metadata": {},
   "outputs": [
    {
     "name": "stdout",
     "output_type": "stream",
     "text": [
      "[0 1 2 3 4 5 6 7 8]\n"
     ]
    }
   ],
   "source": [
    "np_rects = np.array(rects)\n",
    "digit_order_idx = np.argsort(np.array(horizontal_top_lefts))\n",
    "print(digit_order_idx)\n",
    "for i in range(num_digits):\n",
    "    x = rects[digit_order_idx[i]][0]\n",
    "    y = rects[digit_order_idx[i]][1]\n",
    "    w = rects[digit_order_idx[i]][2]\n",
    "    h = rects[digit_order_idx[i]][3]\n",
    "    \n",
    "    cv2.imwrite(\"digit_\"+str(i)+\".png\", in_img[y:y+h+1,x:x+w+1])"
   ]
  },
  {
   "cell_type": "code",
   "execution_count": 142,
   "metadata": {},
   "outputs": [],
   "source": [
    "def square_padding(ori_img):\n",
    "    squared_img = ori_img\n",
    "    height, width = ori_img.shape\n",
    "    if (width != height):\n",
    "        BLACK = [0, 0, 0]\n",
    "        if (width > height):\n",
    "            diff = width - height\n",
    "            if (diff % 2 == 0):\n",
    "                padding = int(diff / 2)\n",
    "                squared_img = cv2.copyMakeBorder(ori_img, padding, padding, 0, 0, cv2.BORDER_CONSTANT,value=BLACK)\n",
    "            else:\n",
    "                padding = floor(diff / 2)\n",
    "                squared_img = cv2.copyMakeBorder(ori_img, padding+1, padding, 0,0, cv2.BORDER_CONSTANT,value=BLACK)\n",
    "        else:\n",
    "            diff = height - width\n",
    "            if (diff % 2 == 0):\n",
    "                padding = int(diff / 2)\n",
    "                squared_img = cv2.copyMakeBorder(ori_img, 0, 0, padding, padding, cv2.BORDER_CONSTANT,value=BLACK)\n",
    "            else:\n",
    "                padding = floor(diff / 2)\n",
    "                squared_img = cv2.copyMakeBorder(ori_img, 0,0, padding+1, padding, cv2.BORDER_CONSTANT,value=BLACK)\n",
    "    return squared_img"
   ]
  },
  {
   "cell_type": "code",
   "execution_count": 143,
   "metadata": {},
   "outputs": [],
   "source": [
    "digit_img = np.array([None] * num_digits)\n",
    "for i in range(num_digits):\n",
    "    x = rects[digit_order_idx[i]][0]\n",
    "    y = rects[digit_order_idx[i]][1]\n",
    "    w = rects[digit_order_idx[i]][2]\n",
    "    h = rects[digit_order_idx[i]][3]\n",
    "    digit_img[i] = square_padding(in_img[y:y+h+1,x:x+w+1])"
   ]
  },
  {
   "cell_type": "code",
   "execution_count": 144,
   "metadata": {},
   "outputs": [],
   "source": [
    "import caffe\n",
    "\n",
    "# caffe.set_device(0)\n",
    "# caffe.set_mode_gpu()\n",
    "caffe.set_mode_cpu()\n",
    "_net = caffe.Net('../lenet_deploy.prototxt', '../mixed_lenet_8817_id_digit.caffemodel', caffe.TEST)"
   ]
  },
  {
   "cell_type": "code",
   "execution_count": 145,
   "metadata": {},
   "outputs": [],
   "source": [
    "def numberSeq2Str(digit_img_arr, net):\n",
    "    id_str = ''\n",
    "    \n",
    "    for digit in digit_img_arr:\n",
    "        digit = cv2.resize(digit, (28, 28))\n",
    "#         print(digit.shape)\n",
    "#         digit = digit.astype(np.dtype(np.float64)) * (1.0 / 255.0)\n",
    "        digit = digit.astype(np.float64) * (1.0 / 255.0)\n",
    "        net.blobs['data'].data[...] = digit[np.newaxis, np.newaxis, :, :]\n",
    "        out = _net.forward()\n",
    "        id_str += str(out['prob'].argmax())\n",
    "    return id_str"
   ]
  },
  {
   "cell_type": "code",
   "execution_count": 146,
   "metadata": {},
   "outputs": [
    {
     "data": {
      "text/plain": [
       "'225221406'"
      ]
     },
     "execution_count": 146,
     "metadata": {},
     "output_type": "execute_result"
    }
   ],
   "source": [
    "numberSeq2Str(digit_img, _net)"
   ]
  },
  {
   "cell_type": "code",
   "execution_count": null,
   "metadata": {},
   "outputs": [],
   "source": []
  }
 ],
 "metadata": {
  "kernelspec": {
   "display_name": "Python 3",
   "language": "python",
   "name": "python3"
  },
  "language_info": {
   "codemirror_mode": {
    "name": "ipython",
    "version": 3
   },
   "file_extension": ".py",
   "mimetype": "text/x-python",
   "name": "python",
   "nbconvert_exporter": "python",
   "pygments_lexer": "ipython3",
   "version": "3.5.2"
  }
 },
 "nbformat": 4,
 "nbformat_minor": 2
}
