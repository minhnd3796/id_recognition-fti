{
 "cells": [
  {
   "cell_type": "code",
   "execution_count": 3,
   "metadata": {},
   "outputs": [],
   "source": [
    "import cv2\n",
    "from matplotlib import pyplot as plt\n",
    "from os.path import join\n",
    "import numpy as np\n",
    "plt.rcParams[\"figure.figsize\"] = [12.0, 8.0]"
   ]
  },
  {
   "cell_type": "code",
   "execution_count": 8,
   "metadata": {},
   "outputs": [
    {
     "data": {
      "text/plain": [
       "<matplotlib.image.AxesImage at 0x7f89289d1a90>"
      ]
     },
     "execution_count": 8,
     "metadata": {},
     "output_type": "execute_result"
    },
    {
     "data": {
      "image/png": "[encoded data removed]",
      "text/plain": [
       "<matplotlib.figure.Figure at 0x7f8928a8dbe0>"
      ]
     },
     "metadata": {},
     "output_type": "display_data"
    }
   ],
   "source": [
    "image_type = 'many_digit_groups'\n",
    "image_name = '841289701567_0901315908_023841227_1_2016032415243805.jpgcardnumber'\n",
    "image_path = join('only_number_id_test', image_type, image_name) + '.png'\n",
    "# print(image_path)\n",
    "img = cv2.imread(image_path, 0)\n",
    "# print(img)\n",
    "\n",
    "plt.imshow(img, cmap='gray')"
   ]
  },
  {
   "cell_type": "code",
   "execution_count": 9,
   "metadata": {},
   "outputs": [
    {
     "data": {
      "image/png": "[encoded data removed]",
      "text/plain": [
       "<matplotlib.figure.Figure at 0x7f89289f9fd0>"
      ]
     },
     "metadata": {},
     "output_type": "display_data"
    }
   ],
   "source": [
    "kernel_size = 2\n",
    "kernel = np.ones((kernel_size, kernel_size),np.uint8)\n",
    "# img = cv2.morphologyEx(img, cv2.MORPH_OPEN, kernel)\n",
    "# img = cv2.morphologyEx(img, cv2.MORPH_CLOSE, kernel)\n",
    "_, thresh = cv2.threshold(img, 127, 255, 0)\n",
    "\n",
    "#==================================================================\n",
    "img2, contours, hierarchy = cv2.findContours(thresh, mode=cv2.RETR_EXTERNAL, method=2)\n",
    "# img2, contours, hierarchy = cv2.findContours(thresh, mode=1, method=2)\n",
    "thresh_coloured = cv2.cvtColor(thresh, cv2.COLOR_GRAY2BGR)\n",
    "\n",
    "num_contours = len(contours)\n",
    "contour_areas = [0] * num_contours\n",
    "heights = [0] * num_contours\n",
    "\n",
    "# print(num_contours)\n",
    "img_height = thresh_coloured.shape[0]\n",
    "\n",
    "for i in range(0, num_contours):\n",
    "    x,y,w,h = cv2.boundingRect(contours[i])\n",
    "    heights[i] = h / img_height\n",
    "    cv2.rectangle(thresh_coloured, (x, y),(x + w, y + h), (0, 255, 0), 1)\n",
    "    contour_areas[i] = cv2.contourArea(contours[i])\n",
    "plt.imshow(thresh_coloured, cmap = 'gray')\n",
    "#==================================================================\n",
    "desc_cnt_idx = np.flipud(np.argsort(np.array(heights)))\n",
    "\n",
    "# print(len(desc_cnt_idx))\n",
    "thresh_coloured = cv2.cvtColor(thresh, cv2.COLOR_GRAY2BGR)\n",
    "\n",
    "num_digits = 9\n",
    "horizontal_top_lefts = [0] * num_digits\n",
    "rects = [None] * num_digits\n",
    "digit_contours = np.array(contours)[desc_cnt_idx[0:num_digits]]\n",
    "# print(digit_contours.shape)\n",
    "# print(rects)\n",
    "\n",
    "for i in range(num_digits):\n",
    "    x,y,w,h = cv2.boundingRect(digit_contours[i])\n",
    "    rects[i] = (x, y, w, h)\n",
    "#     print(x,y,w,h)\n",
    "#     print(rects[i][0])\n",
    "    horizontal_top_lefts[i] = x\n",
    "    cv2.rectangle(thresh_coloured, (x, y),(x + w, y + h), (0, 255, 0), 1)\n",
    "plt.imshow(thresh_coloured, cmap = 'gray')\n",
    "#==================================================================\n",
    "plt.show()"
   ]
  },
  {
   "cell_type": "code",
   "execution_count": 114,
   "metadata": {},
   "outputs": [
    {
     "name": "stdout",
     "output_type": "stream",
     "text": [
      "[234. 234. 252. 234. 216. 108. 216. 216. 216.]\n",
      "[0.07592472 0.07592472 0.08176509 0.07592472 0.07008436 0.03504218\n",
      " 0.07008436 0.07008436 0.07008436]\n",
      "0.03504218040233614\n",
      "0.08176508760545101\n",
      "[ 66.5  72.5  74.   81.   66.   41.5  94.  157.  129. ]\n",
      "True\n"
     ]
    }
   ],
   "source": [
    "box_areas = np.zeros(num_digits)\n",
    "contour_areas = np.zeros(num_digits)\n",
    "image_area = img.shape[0] * img.shape[1]\n",
    "\n",
    "for i in range(num_digits):\n",
    "    contour_areas[i] = cv2.contourArea(digit_contours[i])\n",
    "    box_areas[i] = rects[i][2] * rects[i][3]\n",
    "# print(\"Minimum Contour Area:\", np.min(con))\n",
    "area_ratios = box_areas / image_area\n",
    "min_ratio = np.min(area_ratios)\n",
    "max_ratio = np.max(area_ratios)\n",
    "\n",
    "print(box_areas)\n",
    "print(area_ratios)\n",
    "print(min_ratio)\n",
    "print(max_ratio)\n",
    "print(contour_areas)\n",
    "if (max_ratio > 0.15 or min_ratio < 0.02):\n",
    "    print(False)\n",
    "else:\n",
    "    print(True)"
   ]
  },
  {
   "cell_type": "code",
   "execution_count": null,
   "metadata": {},
   "outputs": [],
   "source": []
  }
 ],
 "metadata": {
  "kernelspec": {
   "display_name": "Python 3",
   "language": "python",
   "name": "python3"
  },
  "language_info": {
   "codemirror_mode": {
    "name": "ipython",
    "version": 3
   },
   "file_extension": ".py",
   "mimetype": "text/x-python",
   "name": "python",
   "nbconvert_exporter": "python",
   "pygments_lexer": "ipython3",
   "version": "3.5.2"
  }
 },
 "nbformat": 4,
 "nbformat_minor": 2
}
