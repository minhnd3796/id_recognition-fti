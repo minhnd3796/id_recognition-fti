{
 "cells": [
  {
   "cell_type": "code",
   "execution_count": 1,
   "metadata": {},
   "outputs": [],
   "source": [
    "import cv2\n",
    "from matplotlib import pyplot as plt\n",
    "from os.path import join\n",
    "import numpy as np"
   ]
  },
  {
   "cell_type": "code",
   "execution_count": 2,
   "metadata": {},
   "outputs": [
    {
     "data": {
      "text/plain": [
       "<matplotlib.image.AxesImage at 0x7f318876bf60>"
      ]
     },
     "execution_count": 2,
     "metadata": {},
     "output_type": "execute_result"
    },
    {
     "data": {
      "image/png": "[encoded data removed]",
      "text/plain": [
       "<matplotlib.figure.Figure at 0x7f318a798a90>"
      ]
     },
     "metadata": {},
     "output_type": "display_data"
    }
   ],
   "source": [
    "plt.rcParams[\"figure.figsize\"] = [16.0, 12.0]\n",
    "image_type = 'many_digit_groups'\n",
    "image_name = '841289701567_0901315908_023841227_1_2016032415243805.jpgcardnumber'\n",
    "image_path = join('number_id_test', image_type, image_name) + '.png'\n",
    "\n",
    "img = cv2.imread(image_path, 0)\n",
    "\n",
    "plt.imshow(img, cmap='gray')"
   ]
  },
  {
   "cell_type": "code",
   "execution_count": 3,
   "metadata": {
    "scrolled": false
   },
   "outputs": [
    {
     "data": {
      "image/png": "[encoded data removed]",
      "text/plain": [
       "<matplotlib.figure.Figure at 0x7f3188312908>"
      ]
     },
     "metadata": {},
     "output_type": "display_data"
    },
    {
     "name": "stdout",
     "output_type": "stream",
     "text": [
      "(96, 15, 18, 23)\n",
      "(116, 16, 21, 23)\n",
      "(225, 12, 25, 29)\n",
      "(247, 12, 21, 30)\n",
      "(268, 13, 26, 29)\n",
      "(293, 14, 20, 28)\n",
      "(316, 14, 20, 30)\n",
      "(339, 14, 19, 29)\n",
      "(363, 14, 15, 29)\n",
      "(385, 16, 21, 29)\n",
      "(410, 15, 20, 30)\n",
      "(571, 15, 6, 26)\n"
     ]
    }
   ],
   "source": [
    "# kernel_size = 2\n",
    "# kernel = np.ones((kernel_size, kernel_size),np.uint8)\n",
    "# img = cv2.morphologyEx(img, cv2.MORPH_OPEN, kernel)\n",
    "# img = cv2.morphologyEx(img, cv2.MORPH_CLOSE, kernel)\n",
    "_, thresh = cv2.threshold(img, 127, 255, 0)\n",
    "\n",
    "#==================================================================\n",
    "img2, contours, hierarchy = cv2.findContours(thresh, mode=cv2.RETR_EXTERNAL, method=2)\n",
    "thresh_coloured = cv2.cvtColor(thresh, cv2.COLOR_GRAY2BGR)\n",
    "\n",
    "num_contours = len(contours)\n",
    "heights = [0] * num_contours\n",
    "img_height = thresh_coloured.shape[0]\n",
    "\n",
    "for i in range(0, num_contours):\n",
    "    x,y,w,h = cv2.boundingRect(contours[i])\n",
    "    heights[i] = h / img_height\n",
    "    cv2.rectangle(thresh_coloured, (x, y),(x + w, y + h), (0, 255, 0), 1)\n",
    "plt.imshow(thresh_coloured, cmap = 'gray')\n",
    "#==================================================================\n",
    "desc_cnt_idx = np.flipud(np.argsort(np.array(heights)))\n",
    "\n",
    "thresh_coloured = cv2.cvtColor(thresh, cv2.COLOR_GRAY2BGR)\n",
    "\n",
    "num_digits = 12\n",
    "rects = [None] * num_digits\n",
    "digit_contours = np.array(contours)[desc_cnt_idx[0:num_digits]]\n",
    "\n",
    "for i in range(num_digits):\n",
    "    rects[i] = cv2.boundingRect(digit_contours[i])\n",
    "    cv2.rectangle(thresh_coloured, (x, y), (x + w, y + h), (0, 255, 0), 1)\n",
    "plt.imshow(thresh_coloured, cmap = 'gray')\n",
    "#==================================================================\n",
    "plt.show()\n",
    "\n",
    "rects.sort(key=lambda tup: tup[0])\n",
    "for i in range(num_digits):\n",
    "    print(rects[i])"
   ]
  },
  {
   "cell_type": "code",
   "execution_count": 4,
   "metadata": {},
   "outputs": [],
   "source": [
    "def is_together(rect_a, rect_b):\n",
    "    threshold_x = 12\n",
    "    threshold_y = 12\n",
    "    distance_x = rect_b[0] - rect_a[0] - rect_a[2]\n",
    "    distance_y_atob = rect_b[1] - rect_a[1] - rect_a[3]\n",
    "    distance_y_btoa = rect_a[1] - rect_b[1] - rect_b[3]\n",
    "    if (distance_x > threshold_x or not (distance_y_atob <= 0 and distance_y_btoa <= threshold_y)\n",
    "       or not (distance_y_btoa <= 0 and distance_y_atob <= threshold_y)):\n",
    "        return False\n",
    "    else:\n",
    "        return True"
   ]
  },
  {
   "cell_type": "code",
   "execution_count": 5,
   "metadata": {},
   "outputs": [
    {
     "name": "stdout",
     "output_type": "stream",
     "text": [
      "False\n"
     ]
    }
   ],
   "source": [
    "print(is_together(rects[10], rects[11]))"
   ]
  },
  {
   "cell_type": "code",
   "execution_count": 6,
   "metadata": {},
   "outputs": [],
   "source": [
    "def find_group(a, groups):\n",
    "    is_new_group = True\n",
    "    group_index = -1\n",
    "    \n",
    "    num_groups = len(groups)\n",
    "    for i in range(num_groups):\n",
    "        if a in groups[i]:\n",
    "            group_index = i\n",
    "            is_new_group = False\n",
    "            break\n",
    "    \n",
    "    return is_new_group, group_index"
   ]
  },
  {
   "cell_type": "code",
   "execution_count": 7,
   "metadata": {},
   "outputs": [],
   "source": [
    "def group_rects(rects):\n",
    "    rects.sort(key=lambda tup: tup[0])\n",
    "    num_rects = len(rects)\n",
    "    groups = []\n",
    "    for i in range(num_rects):\n",
    "        is_new_group, group_index = find_group(i, groups)\n",
    "        if is_new_group == True:\n",
    "            group = [i]\n",
    "        for j in range(i + 1, num_rects):\n",
    "            if is_together(rects[i], rects[j]):\n",
    "                if is_new_group == True:\n",
    "                    group.append(j)\n",
    "                else:\n",
    "                    groups[group_index].append(j)\n",
    "        if is_new_group == True:\n",
    "            groups.append(group)\n",
    "    return groups"
   ]
  },
  {
   "cell_type": "code",
   "execution_count": 8,
   "metadata": {},
   "outputs": [
    {
     "name": "stdout",
     "output_type": "stream",
     "text": [
      "[[0, 1], [2, 3, 4, 5, 6, 7, 8, 9, 10], [11]]\n"
     ]
    }
   ],
   "source": [
    "# print(rects)\n",
    "groups = group_rects(rects)\n",
    "print(groups)"
   ]
  },
  {
   "cell_type": "code",
   "execution_count": 9,
   "metadata": {},
   "outputs": [],
   "source": [
    "def find_longest_group(rects, groups):\n",
    "    num_groups = len(groups)\n",
    "    longest_group = None\n",
    "    max_length = 0\n",
    "    \n",
    "    for i in range(num_groups):\n",
    "        length = rects[groups[i][-1]][0] + rects[groups[i][-1]][2] - rects[groups[i][0]][0]\n",
    "        if max_length < length:\n",
    "            max_length = length\n",
    "            longest_group = groups[i]\n",
    "    return longest_group"
   ]
  },
  {
   "cell_type": "code",
   "execution_count": 10,
   "metadata": {},
   "outputs": [
    {
     "name": "stdout",
     "output_type": "stream",
     "text": [
      "[2, 3, 4, 5, 6, 7, 8, 9, 10]\n"
     ]
    }
   ],
   "source": [
    "id_groups = find_longest_group(rects, groups)\n",
    "\n",
    "print(id_groups)"
   ]
  },
  {
   "cell_type": "code",
   "execution_count": 11,
   "metadata": {},
   "outputs": [],
   "source": [
    "def merge_rects(rects, id_groups):\n",
    "    x = rects[id_groups[0]][0]\n",
    "    w = rects[id_groups[-1]][0] + rects[id_groups[-1]][2]\n",
    "    \n",
    "    y = rects[id_groups[0]][1]\n",
    "    h = rects[id_groups[0]][1] + rects[id_groups[0]][3]\n",
    "    num_groups = len(id_groups)\n",
    "    for i in range(1, num_groups):\n",
    "        if rects[id_groups[i]][1] < y:\n",
    "            y = rects[id_groups[i]][1]\n",
    "        if rects[id_groups[i]][1] + rects[id_groups[i]][3] > h:\n",
    "            h = rects[id_groups[i]][1] + rects[id_groups[i]][3]\n",
    "    \n",
    "    return x, y, w, h"
   ]
  },
  {
   "cell_type": "code",
   "execution_count": 12,
   "metadata": {},
   "outputs": [
    {
     "name": "stdout",
     "output_type": "stream",
     "text": [
      "(225, 12, 430, 45)\n"
     ]
    },
    {
     "data": {
      "text/plain": [
       "<matplotlib.image.AxesImage at 0x7f3188677550>"
      ]
     },
     "execution_count": 12,
     "metadata": {},
     "output_type": "execute_result"
    },
    {
     "data": {
      "image/png": "[encoded data removed]",
      "text/plain": [
       "<matplotlib.figure.Figure at 0x7f3188309a90>"
      ]
     },
     "metadata": {},
     "output_type": "display_data"
    }
   ],
   "source": [
    "print(merge_rects(rects, id_groups))\n",
    "x, y, w, h = merge_rects(rects, id_groups)\n",
    "thresh_coloured = cv2.cvtColor(thresh, cv2.COLOR_GRAY2BGR)\n",
    "plt.imshow(thresh_coloured[y:h, x:w], cmap = 'gray')"
   ]
  },
  {
   "cell_type": "code",
   "execution_count": 13,
   "metadata": {
    "scrolled": true
   },
   "outputs": [
    {
     "data": {
      "text/plain": [
       "<matplotlib.image.AxesImage at 0x7f3188635da0>"
      ]
     },
     "execution_count": 13,
     "metadata": {},
     "output_type": "execute_result"
    },
    {
     "data": {
      "image/png": "[encoded data removed]",
      "text/plain": [
       "<matplotlib.figure.Figure at 0x7f31886bfb70>"
      ]
     },
     "metadata": {},
     "output_type": "display_data"
    }
   ],
   "source": [
    "thresh_coloured = cv2.cvtColor(thresh, cv2.COLOR_GRAY2BGR)\n",
    "# x,y,w,h = cv2.boundingRect(digit_contours[3])\n",
    "# x,y,w,h = rects[4]\n",
    "# cv2.rectangle(thresh_coloured, (x, y),(x + w, y + h), (0, 255, 0), 1)\n",
    "# x,y,w,h = cv2.boundingRect(digit_contours[2])\n",
    "# x,y,w,h = rects[7]\n",
    "# cv2.rectangle(thresh_coloured, (x, y),(x + w, y + h), (0, 255, 0), 1)\n",
    "# x,y,w,h = cv2.boundingRect(digit_contours[4])\n",
    "# x,y,w,h = rects[8]\n",
    "\n",
    "for i in range(len(id_groups)):\n",
    "    x,y,w,h = rects[id_groups[i]]\n",
    "    cv2.rectangle(thresh_coloured, (x, y),(x + w, y + h), (0, 255, 0), 1)\n",
    "plt.imshow(thresh_coloured, cmap = 'gray')"
   ]
  },
  {
   "cell_type": "code",
   "execution_count": 72,
   "metadata": {
    "scrolled": true
   },
   "outputs": [
    {
     "data": {
      "text/plain": [
       "<matplotlib.image.AxesImage at 0x7f3537dbde10>"
      ]
     },
     "execution_count": 72,
     "metadata": {},
     "output_type": "execute_result"
    },
    {
     "data": {
      "image/png": "[encoded data removed]",
      "text/plain": [
       "<matplotlib.figure.Figure at 0x7f3537e13cf8>"
      ]
     },
     "metadata": {},
     "output_type": "display_data"
    }
   ],
   "source": [
    "thresh_coloured = cv2.cvtColor(thresh, cv2.COLOR_GRAY2BGR)\n",
    "x, y, w, h = merge_rects(rects, id_groups)\n",
    "cv2.rectangle(thresh_coloured, (x, y), (w, h), (0, 255, 0), 1)\n",
    "plt.imshow(thresh_coloured, cmap = 'gray')"
   ]
  },
  {
   "cell_type": "code",
   "execution_count": null,
   "metadata": {},
   "outputs": [],
   "source": []
  }
 ],
 "metadata": {
  "kernelspec": {
   "display_name": "Python 3",
   "language": "python",
   "name": "python3"
  },
  "language_info": {
   "codemirror_mode": {
    "name": "ipython",
    "version": 3
   },
   "file_extension": ".py",
   "mimetype": "text/x-python",
   "name": "python",
   "nbconvert_exporter": "python",
   "pygments_lexer": "ipython3",
   "version": "3.5.2"
  }
 },
 "nbformat": 4,
 "nbformat_minor": 2
}
